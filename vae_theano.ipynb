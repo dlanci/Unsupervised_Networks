{
 "cells": [
  {
   "cell_type": "code",
   "execution_count": 13,
   "metadata": {},
   "outputs": [
    {
     "name": "stdout",
     "output_type": "stream",
     "text": [
      "Extracting MNIST_data/train-images-idx3-ubyte.gz\n",
      "Extracting MNIST_data/train-labels-idx1-ubyte.gz\n",
      "Extracting MNIST_data/t10k-images-idx3-ubyte.gz\n",
      "Extracting MNIST_data/t10k-labels-idx1-ubyte.gz\n"
     ]
    }
   ],
   "source": [
    "import numpy as np\n",
    "import theano\n",
    "import theano.tensor as T\n",
    "import matplotlib.pyplot as plt\n",
    "\n",
    "from tensorflow.examples.tutorials.mnist import input_data\n",
    "from util import random_mini_batches\n",
    "\n",
    "mnist = input_data.read_data_sets(\"MNIST_data/\", one_hot=False)"
   ]
  },
  {
   "cell_type": "code",
   "execution_count": 14,
   "metadata": {},
   "outputs": [],
   "source": [
    "from theano.tensor.shared_randomstreams import RandomStreams"
   ]
  },
  {
   "cell_type": "code",
   "execution_count": 15,
   "metadata": {},
   "outputs": [],
   "source": [
    "class DenseLayer(object):\n",
    "    \n",
    "    def __init__(self, mi, mo, f = T.nnet.relu):\n",
    "        \n",
    "        self.W = theano.shared(np.random.randn(mi,mo)*2/np.sqrt(mi))\n",
    "        self.b = theano.shared(np.zeros(mo))\n",
    "        self.f = f\n",
    "        \n",
    "        self.params = [self.W,self.b]\n",
    "    \n",
    "    def forward(self, X):\n",
    "        \n",
    "        return self.f(X.dot(self.W)+self.b)"
   ]
  },
  {
   "cell_type": "code",
   "execution_count": 22,
   "metadata": {},
   "outputs": [],
   "source": [
    "class VariationalAutoencoder:\n",
    "    \n",
    "    def __init__(self, D, hidden_layer_sizes):\n",
    "        \n",
    "        self.X = T.matrix('X')\n",
    "        \n",
    "        self.encoder_layers = []\n",
    "        self.decoder_layers = []\n",
    "        \n",
    "        M_in = D\n",
    "        \n",
    "        for M_out in hidden_layer_sizes[:-1]:\n",
    "            \n",
    "            layer = DenseLayer(M_in,M_out)\n",
    "            self.encoder_layers.append(layer)\n",
    "            M_in = M_out\n",
    "        \n",
    "        M = hidden_layer_sizes[-1]\n",
    "        \n",
    "        final_enc_layer = DenseLayer(M_in, 2*M, f=lambda x:x)\n",
    "        self.encoder_layers.append(final_enc_layer)\n",
    "        \n",
    "        \n",
    "        \n",
    "        current_layer_value = self.X\n",
    "        \n",
    "        for layer in self.encoder_layers:\n",
    "            current_layer_value = layer.forward(current_layer_value)\n",
    "        \n",
    "        self.means = current_layer_value[:,:M]\n",
    "        self.stddev = T.nnet.softplus(current_layer_value[:,M:])+1e-6\n",
    "        \n",
    "        #get a sample of Z\n",
    "        \n",
    "        self.rng = RandomStreams()\n",
    "        eps = self.rng.normal((self.means.shape[0],M))\n",
    "        self.Z = self.means+self.stddev*eps\n",
    "        \n",
    "        self.decoder_layers = []\n",
    "        M_in = M\n",
    "        \n",
    "        for M_out in reversed(hidden_layer_sizes[:-1]):\n",
    "            \n",
    "            layer = DenseLayer(M_in,M_out)\n",
    "            self.decoder_layers.append(layer)\n",
    "            M_in = M_out\n",
    "        \n",
    "        final_dec_layer = DenseLayer(M_in, D, f=T.nnet.sigmoid)\n",
    "        self.decoder_layers.append(final_dec_layer)\n",
    "        \n",
    "        #posterior predictive\n",
    "        current_layer_value = self.Z\n",
    "        for layer in self.decoder_layers:\n",
    "            current_layer_value = layer.forward(current_layer_value)\n",
    "        \n",
    "        self.posterior_predictive_probs = current_layer_value\n",
    "        \n",
    "        #take samples from X_hat\n",
    "        #it's the posterior predictive sample\n",
    "        \n",
    "        self.posterior_predictive = self.rng.binomial(\n",
    "            \n",
    "            size=self.posterior_predictive_probs.shape,\n",
    "            n=1,\n",
    "            p=self.posterior_predictive_probs\n",
    "        )\n",
    "        \n",
    "        #generate prior predictive sample\n",
    "        Z_std = self.rng.normal((1,M))\n",
    "        current_layer_value = Z_std\n",
    "        \n",
    "        for layer in self.decoder_layers:\n",
    "            current_layer_value = layer.forward(current_layer_value)\n",
    "        self.prior_predictive_probs = current_layer_value\n",
    "        \n",
    "        self.prior_predictive = self.rng.binomial(\n",
    "        \n",
    "            size = self.prior_predictive_probs.shape,\n",
    "            n=1,\n",
    "            p=self.prior_predictive_probs\n",
    "        \n",
    "        )\n",
    "        \n",
    "        #prior predictive from input\n",
    "        #used for generating visualization\n",
    "        \n",
    "        Z_input = T.matrix('Z_input')\n",
    "        current_layer_value = Z_input\n",
    "        \n",
    "        for layer in self.decoder_layers:\n",
    "            current_layer_value = layer.forward(current_layer_value)\n",
    "            \n",
    "        prior_predictive_probs_from_Z_input = current_layer_value\n",
    "        \n",
    "        #building the cost\n",
    "        kl = -T.log(self.stddev) + 0.5*(self.stddev**2 + self.means**2) - 0.5\n",
    "        \n",
    "        kl = T.sum(kl, axis=1)\n",
    "        \n",
    "        expected_log_likelihood = -T.nnet.binary_crossentropy(\n",
    "              output=self.posterior_predictive_probs,\n",
    "              target=self.X,\n",
    "        )\n",
    "        \n",
    "        expected_log_likelihood = T.sum(expected_log_likelihood, axis=1)\n",
    "        \n",
    "        self.elbo = T.sum(expected_log_likelihood - kl)\n",
    "        \n",
    "        params = []\n",
    "        for layer in self.encoder_layers:\n",
    "            params += layer.params\n",
    "        for layer in self.decoder_layers:\n",
    "            params += layer.params\n",
    "    \n",
    "        grads = T.grad(-self.elbo, params)\n",
    "\n",
    "        # rmsprop\n",
    "        decay = 0.9\n",
    "        learning_rate = 0.001\n",
    "\n",
    "        # for rmsprop\n",
    "        cache = [theano.shared(np.ones_like(p.get_value())) for p in params]\n",
    "\n",
    "        new_cache = [decay*c + (1-decay)*g*g for p, c, g in zip(params, cache, grads)]\n",
    "\n",
    "        updates = [\n",
    "            (c, new_c) for c, new_c in zip(cache, new_cache)\n",
    "        ] + [\n",
    "            (p, p - learning_rate*g/T.sqrt(new_c + 1e-10)) for p, new_c, g in zip(params, new_cache, grads)\n",
    "        ]\n",
    "        \n",
    "        \n",
    "        self.train_op = theano.function(\n",
    "            inputs=[self.X],\n",
    "            outputs=self.elbo,\n",
    "            updates = updates\n",
    "        )\n",
    "        \n",
    "        # returns a sample from p(x_new | X)\n",
    "        self.posterior_predictive_sample = theano.function(\n",
    "            inputs=[self.X],\n",
    "            outputs=self.posterior_predictive\n",
    "        )\n",
    "        \n",
    "        # returns a sample from p(x_new | z), z ~ N(0, 1)\n",
    "        self.prior_predictive_sample_with_probs = theano.function(\n",
    "            inputs=[],\n",
    "            outputs=[self.prior_predictive, self.prior_predictive_probs]\n",
    "        )\n",
    "\n",
    "        # return mean of q(z | x)\n",
    "        self.transform = theano.function(\n",
    "            inputs=[self.X],\n",
    "            outputs=self.means\n",
    "        )\n",
    "        \n",
    "        \n",
    "        # returns a sample from p(x_new | z), from a given z\n",
    "        self.prior_predictive_with_input = theano.function(\n",
    "            inputs=[Z_input],\n",
    "            outputs=prior_predictive_probs_from_Z_input\n",
    "        )\n",
    "        \n",
    "    def fit(self, X, epochs = 30, batch_sz=64):\n",
    "            \n",
    "            costs=[]\n",
    "            n_batches = len(X) // batch_sz\n",
    "            print(\"n_batches:\", n_batches)\n",
    "            \n",
    "            for i in range(epochs):\n",
    "                \n",
    "                print(\"epoch:\", i)\n",
    "                np.random.shuffle(X)\n",
    "                \n",
    "                for j in range(n_batches):\n",
    "                    \n",
    "                    batch = X[j*batch_sz:(j+1)*batch_sz]\n",
    "                    c = self.train_op(batch)\n",
    "                    c /= batch_sz # just debugging\n",
    "                    costs.append(c)\n",
    "                \n",
    "                    if j % 100 == 0:\n",
    "                        print(\"iter: %d, cost: %.3f\" % (j, c))\n",
    "            plt.plot(costs)\n",
    "            plt.show()        "
   ]
  },
  {
   "cell_type": "code",
   "execution_count": null,
   "metadata": {},
   "outputs": [],
   "source": [
    "def test_vae():\n",
    "    \n",
    "    X_train = mnist.train.images\n",
    "    #X_train = X_train/255\n",
    "    X_train = (X_train>0.5).astype(np.float32)\n",
    "    \n",
    "    X_test = mnist.test.images\n",
    "    #X_test = X_test/255\n",
    "    X_test = (X_test>0.5).astype(np.float32)\n",
    "\n",
    "    \n",
    "    N, D = X_train.shape\n",
    "    \n",
    "    vae = VariationalAutoencoder(D,[200,100])\n",
    "    vae.fit(X_train)\n",
    "    \n",
    "    #plot reconstruction\n",
    "    done = False\n",
    "    while not done:\n",
    "        \n",
    "        i = np.random.choice(len(X_test))\n",
    "        x = X_test[i]\n",
    "        im = vae.posterior_predictive_sample([x]).reshape(28, 28)\n",
    "        \n",
    "        plt.subplot(1,2,1)\n",
    "        plt.imshow(x.reshape(28, 28), cmap='gray')\n",
    "        plt.title(\"Original\")\n",
    "        \n",
    "        plt.subplot(1,2,2)\n",
    "        plt.imshow(im, cmap='gray')\n",
    "        plt.title(\"Sampled\")\n",
    "        \n",
    "        plt.show()\n",
    "\n",
    "        ans = input(\"Generate another?\")\n",
    "        if ans and ans[0] in ('n' or 'N'):\n",
    "            done = True\n",
    "\n",
    "    # plot output from random samples in latent space\n",
    "    done = False\n",
    "    while not done:\n",
    "        \n",
    "        im, probs = vae.prior_predictive_sample_with_probs()\n",
    "        im = im.reshape(28, 28)\n",
    "        probs = probs.reshape(28, 28)\n",
    "        \n",
    "        plt.subplot(1,2,1)\n",
    "        plt.imshow(im, cmap='gray')\n",
    "        plt.title(\"Prior predictive sample\")\n",
    "        \n",
    "        plt.subplot(1,2,2)\n",
    "        plt.imshow(probs, cmap='gray')\n",
    "        plt.title(\"Prior predictive probs\")\n",
    "        \n",
    "        plt.show()\n",
    "\n",
    "        ans = input(\"Generate another?\")\n",
    "        if ans and ans[0] in ('n' or 'N'):\n",
    "            done = True\n",
    "    "
   ]
  },
  {
   "cell_type": "code",
   "execution_count": null,
   "metadata": {},
   "outputs": [
    {
     "name": "stdout",
     "output_type": "stream",
     "text": [
      "n_batches: 859\n",
      "epoch: 0\n",
      "iter: 0, cost: -1427.148\n",
      "iter: 100, cost: -239.347\n",
      "iter: 200, cost: -194.904\n",
      "iter: 300, cost: -183.178\n",
      "iter: 400, cost: -162.001\n",
      "iter: 500, cost: -154.493\n",
      "iter: 600, cost: -151.000\n",
      "iter: 700, cost: -146.549\n",
      "iter: 800, cost: -143.491\n",
      "epoch: 1\n",
      "iter: 0, cost: -150.738\n",
      "iter: 100, cost: -134.781\n",
      "iter: 200, cost: -140.844\n",
      "iter: 300, cost: -135.378\n",
      "iter: 400, cost: -141.630\n",
      "iter: 500, cost: -143.435\n",
      "iter: 600, cost: -125.572\n",
      "iter: 700, cost: -132.120\n",
      "iter: 800, cost: -131.600\n",
      "epoch: 2\n",
      "iter: 0, cost: -118.978\n",
      "iter: 100, cost: -116.245\n",
      "iter: 200, cost: -123.771\n",
      "iter: 300, cost: -120.303\n",
      "iter: 400, cost: -120.881\n",
      "iter: 500, cost: -122.618\n",
      "iter: 600, cost: -116.384\n",
      "iter: 700, cost: -120.985\n",
      "iter: 800, cost: -109.186\n",
      "epoch: 3\n",
      "iter: 0, cost: -113.666\n",
      "iter: 100, cost: -118.199\n",
      "iter: 200, cost: -120.358\n",
      "iter: 300, cost: -118.755\n",
      "iter: 400, cost: -107.472\n",
      "iter: 500, cost: -113.899\n",
      "iter: 600, cost: -107.514\n",
      "iter: 700, cost: -107.751\n",
      "iter: 800, cost: -106.762\n",
      "epoch: 4\n",
      "iter: 0, cost: -120.170\n",
      "iter: 100, cost: -103.536\n",
      "iter: 200, cost: -103.469\n",
      "iter: 300, cost: -108.215\n",
      "iter: 400, cost: -107.359\n",
      "iter: 500, cost: -105.376\n",
      "iter: 600, cost: -107.879\n",
      "iter: 700, cost: -108.330\n",
      "iter: 800, cost: -95.077\n",
      "epoch: 5\n",
      "iter: 0, cost: -101.121\n",
      "iter: 100, cost: -101.607\n",
      "iter: 200, cost: -102.817\n",
      "iter: 300, cost: -100.341\n",
      "iter: 400, cost: -107.175\n",
      "iter: 500, cost: -100.396\n",
      "iter: 600, cost: -99.121\n",
      "iter: 700, cost: -105.118\n",
      "iter: 800, cost: -103.219\n",
      "epoch: 6\n",
      "iter: 0, cost: -100.620\n",
      "iter: 100, cost: -105.158\n",
      "iter: 200, cost: -95.691\n",
      "iter: 300, cost: -105.223\n",
      "iter: 400, cost: -97.192\n",
      "iter: 500, cost: -102.449\n",
      "iter: 600, cost: -94.354\n",
      "iter: 700, cost: -95.032\n",
      "iter: 800, cost: -96.565\n",
      "epoch: 7\n",
      "iter: 0, cost: -103.437\n",
      "iter: 100, cost: -98.405\n",
      "iter: 200, cost: -95.678\n",
      "iter: 300, cost: -98.549\n",
      "iter: 400, cost: -100.850\n",
      "iter: 500, cost: -100.994\n",
      "iter: 600, cost: -94.135\n",
      "iter: 700, cost: -99.543\n",
      "iter: 800, cost: -98.441\n",
      "epoch: 8\n",
      "iter: 0, cost: -96.035\n",
      "iter: 100, cost: -101.049\n",
      "iter: 200, cost: -95.093\n",
      "iter: 300, cost: -94.344\n",
      "iter: 400, cost: -98.919\n",
      "iter: 500, cost: -97.307\n",
      "iter: 600, cost: -102.854\n",
      "iter: 700, cost: -95.652\n",
      "iter: 800, cost: -90.612\n",
      "epoch: 9\n",
      "iter: 0, cost: -94.960\n",
      "iter: 100, cost: -94.960\n",
      "iter: 200, cost: -89.794\n",
      "iter: 300, cost: -93.943\n",
      "iter: 400, cost: -102.606\n",
      "iter: 500, cost: -96.034\n",
      "iter: 600, cost: -95.181\n",
      "iter: 700, cost: -98.601\n",
      "iter: 800, cost: -92.584\n",
      "epoch: 10\n",
      "iter: 0, cost: -93.260\n",
      "iter: 100, cost: -95.789\n",
      "iter: 200, cost: -93.345\n",
      "iter: 300, cost: -89.446\n",
      "iter: 400, cost: -96.517\n",
      "iter: 500, cost: -98.347\n",
      "iter: 600, cost: -97.970\n",
      "iter: 700, cost: -95.995\n",
      "iter: 800, cost: -90.663\n",
      "epoch: 11\n",
      "iter: 0, cost: -90.957\n",
      "iter: 100, cost: -92.095\n",
      "iter: 200, cost: -96.185\n",
      "iter: 300, cost: -93.262\n",
      "iter: 400, cost: -95.149\n",
      "iter: 500, cost: -100.272\n",
      "iter: 600, cost: -94.761\n",
      "iter: 700, cost: -100.023\n",
      "iter: 800, cost: -90.009\n",
      "epoch: 12\n",
      "iter: 0, cost: -91.823\n",
      "iter: 100, cost: -95.013\n",
      "iter: 200, cost: -96.213\n",
      "iter: 300, cost: -96.368\n",
      "iter: 400, cost: -94.399\n",
      "iter: 500, cost: -95.311\n",
      "iter: 600, cost: -97.943\n",
      "iter: 700, cost: -92.869\n",
      "iter: 800, cost: -96.758\n",
      "epoch: 13\n",
      "iter: 0, cost: -90.721\n",
      "iter: 100, cost: -98.730\n",
      "iter: 200, cost: -96.260\n",
      "iter: 300, cost: -97.036\n",
      "iter: 400, cost: -97.326\n",
      "iter: 500, cost: -95.014\n",
      "iter: 600, cost: -94.152\n",
      "iter: 700, cost: -98.851\n",
      "iter: 800, cost: -89.323\n",
      "epoch: 14\n",
      "iter: 0, cost: -90.308\n",
      "iter: 100, cost: -97.589\n",
      "iter: 200, cost: -99.043\n",
      "iter: 300, cost: -90.900\n",
      "iter: 400, cost: -90.897\n",
      "iter: 500, cost: -91.533\n",
      "iter: 600, cost: -94.711\n",
      "iter: 700, cost: -99.659\n",
      "iter: 800, cost: -96.123\n",
      "epoch: 15\n",
      "iter: 0, cost: -92.703\n",
      "iter: 100, cost: -92.491\n",
      "iter: 200, cost: -93.384\n",
      "iter: 300, cost: -89.751\n",
      "iter: 400, cost: -88.805\n",
      "iter: 500, cost: -90.564\n",
      "iter: 600, cost: -96.758\n",
      "iter: 700, cost: -93.918\n",
      "iter: 800, cost: -95.665\n",
      "epoch: 16\n",
      "iter: 0, cost: -96.554\n",
      "iter: 100, cost: -83.170\n",
      "iter: 200, cost: -93.549\n",
      "iter: 300, cost: -98.511\n",
      "iter: 400, cost: -90.477\n",
      "iter: 500, cost: -92.065\n",
      "iter: 600, cost: -90.162\n",
      "iter: 700, cost: -88.469\n",
      "iter: 800, cost: -90.382\n",
      "epoch: 17\n",
      "iter: 0, cost: -92.636\n",
      "iter: 100, cost: -91.737\n",
      "iter: 200, cost: -93.120\n",
      "iter: 300, cost: -93.568\n",
      "iter: 400, cost: -91.418\n",
      "iter: 500, cost: -91.606\n",
      "iter: 600, cost: -90.825\n",
      "iter: 700, cost: -89.166\n",
      "iter: 800, cost: -87.091\n",
      "epoch: 18\n",
      "iter: 0, cost: -94.850\n",
      "iter: 100, cost: -93.938\n",
      "iter: 200, cost: -90.096\n",
      "iter: 300, cost: -90.439\n",
      "iter: 400, cost: -91.577\n",
      "iter: 500, cost: -97.187\n",
      "iter: 600, cost: -92.926\n",
      "iter: 700, cost: -92.698\n",
      "iter: 800, cost: -100.980\n",
      "epoch: 19\n",
      "iter: 0, cost: -90.647\n",
      "iter: 100, cost: -90.382\n",
      "iter: 200, cost: -89.424\n",
      "iter: 300, cost: -93.195\n",
      "iter: 400, cost: -89.043\n",
      "iter: 500, cost: -90.937\n",
      "iter: 600, cost: -89.858\n",
      "iter: 700, cost: -89.181\n",
      "iter: 800, cost: -92.905\n",
      "epoch: 20\n",
      "iter: 0, cost: -94.678\n",
      "iter: 100, cost: -89.265\n",
      "iter: 200, cost: -89.937\n",
      "iter: 300, cost: -91.621\n",
      "iter: 400, cost: -88.966\n",
      "iter: 500, cost: -88.835\n",
      "iter: 600, cost: -94.467\n",
      "iter: 700, cost: -98.821\n",
      "iter: 800, cost: -90.680\n",
      "epoch: 21\n",
      "iter: 0, cost: -91.758\n",
      "iter: 100, cost: -93.376\n",
      "iter: 200, cost: -91.457\n",
      "iter: 300, cost: -96.569\n",
      "iter: 400, cost: -94.641\n",
      "iter: 500, cost: -92.337\n",
      "iter: 600, cost: -90.692\n",
      "iter: 700, cost: -89.108\n",
      "iter: 800, cost: -88.099\n",
      "epoch: 22\n",
      "iter: 0, cost: -94.770\n",
      "iter: 100, cost: -98.013\n",
      "iter: 200, cost: -82.281\n",
      "iter: 300, cost: -94.114\n",
      "iter: 400, cost: -96.150\n",
      "iter: 500, cost: -94.732\n",
      "iter: 600, cost: -89.414\n",
      "iter: 700, cost: -94.797\n",
      "iter: 800, cost: -93.502\n",
      "epoch: 23\n",
      "iter: 0, cost: -94.902\n",
      "iter: 100, cost: -97.789\n",
      "iter: 200, cost: -92.935\n",
      "iter: 300, cost: -96.636\n",
      "iter: 400, cost: -92.111\n",
      "iter: 500, cost: -91.273\n",
      "iter: 600, cost: -90.431\n",
      "iter: 700, cost: -88.970\n",
      "iter: 800, cost: -85.461\n",
      "epoch: 24\n",
      "iter: 0, cost: -88.308\n",
      "iter: 100, cost: -87.160\n",
      "iter: 200, cost: -90.727\n",
      "iter: 300, cost: -85.571\n",
      "iter: 400, cost: -93.035\n",
      "iter: 500, cost: -93.213\n",
      "iter: 600, cost: -85.444\n",
      "iter: 700, cost: -89.380\n",
      "iter: 800, cost: -93.644\n",
      "epoch: 25\n",
      "iter: 0, cost: -91.177\n",
      "iter: 100, cost: -96.002\n",
      "iter: 200, cost: -90.237\n",
      "iter: 300, cost: -96.431\n",
      "iter: 400, cost: -90.316\n",
      "iter: 500, cost: -94.164\n",
      "iter: 600, cost: -90.041\n",
      "iter: 700, cost: -92.747\n",
      "iter: 800, cost: -92.117\n",
      "epoch: 26\n",
      "iter: 0, cost: -85.996\n",
      "iter: 100, cost: -93.187\n",
      "iter: 200, cost: -90.214\n",
      "iter: 300, cost: -91.053\n",
      "iter: 400, cost: -94.526\n",
      "iter: 500, cost: -91.742\n",
      "iter: 600, cost: -88.485\n",
      "iter: 700, cost: -92.863\n",
      "iter: 800, cost: -87.504\n",
      "epoch: 27\n",
      "iter: 0, cost: -83.404\n",
      "iter: 100, cost: -88.209\n",
      "iter: 200, cost: -86.325\n",
      "iter: 300, cost: -88.856\n",
      "iter: 400, cost: -97.174\n",
      "iter: 500, cost: -89.825\n",
      "iter: 600, cost: -92.316\n",
      "iter: 700, cost: -92.693\n",
      "iter: 800, cost: -94.091\n",
      "epoch: 28\n",
      "iter: 0, cost: -88.042\n",
      "iter: 100, cost: -91.619\n",
      "iter: 200, cost: -88.899\n",
      "iter: 300, cost: -90.462\n",
      "iter: 400, cost: -94.886\n",
      "iter: 500, cost: -92.716\n",
      "iter: 600, cost: -85.327\n",
      "iter: 700, cost: -96.173\n",
      "iter: 800, cost: -86.534\n",
      "epoch: 29\n",
      "iter: 0, cost: -91.149\n",
      "iter: 100, cost: -86.250\n",
      "iter: 200, cost: -85.671\n",
      "iter: 300, cost: -92.747\n",
      "iter: 400, cost: -93.244\n",
      "iter: 500, cost: -90.555\n",
      "iter: 600, cost: -87.468\n",
      "iter: 700, cost: -86.587\n",
      "iter: 800, cost: -91.956\n"
     ]
    },
    {
     "data": {
      "image/png": "[encoded data removed]",
      "text/plain": [
       "<matplotlib.figure.Figure at 0x7f12b4eb3400>"
      ]
     },
     "metadata": {},
     "output_type": "display_data"
    },
    {
     "data": {
      "image/png": "[encoded data removed]",
      "text/plain": [
       "<matplotlib.figure.Figure at 0x7f12b4bd2978>"
      ]
     },
     "metadata": {},
     "output_type": "display_data"
    },
    {
     "name": "stdout",
     "output_type": "stream",
     "text": [
      "Generate another?\n"
     ]
    },
    {
     "data": {
      "image/png": "[encoded data removed]",
      "text/plain": [
       "<matplotlib.figure.Figure at 0x7f12b4dc24e0>"
      ]
     },
     "metadata": {},
     "output_type": "display_data"
    },
    {
     "name": "stdout",
     "output_type": "stream",
     "text": [
      "Generate another?\n"
     ]
    },
    {
     "data": {
      "image/png": "[encoded data removed]",
      "text/plain": [
       "<matplotlib.figure.Figure at 0x7f12b4d14358>"
      ]
     },
     "metadata": {},
     "output_type": "display_data"
    },
    {
     "name": "stdout",
     "output_type": "stream",
     "text": [
      "Generate another?\n"
     ]
    },
    {
     "data": {
      "image/png": "[encoded data removed]",
      "text/plain": [
       "<matplotlib.figure.Figure at 0x7f12b4cb42b0>"
      ]
     },
     "metadata": {},
     "output_type": "display_data"
    },
    {
     "name": "stdout",
     "output_type": "stream",
     "text": [
      "Generate another?n\n"
     ]
    },
    {
     "data": {
      "image/png": "[encoded data removed]",
      "text/plain": [
       "<matplotlib.figure.Figure at 0x7f12b4b17d30>"
      ]
     },
     "metadata": {},
     "output_type": "display_data"
    },
    {
     "name": "stdout",
     "output_type": "stream",
     "text": [
      "Generate another?\n"
     ]
    },
    {
     "data": {
      "image/png": "[encoded data removed]",
      "text/plain": [
       "<matplotlib.figure.Figure at 0x7f12aa5a0c88>"
      ]
     },
     "metadata": {},
     "output_type": "display_data"
    },
    {
     "name": "stdout",
     "output_type": "stream",
     "text": [
      "Generate another?\n"
     ]
    },
    {
     "data": {
      "image/png": "[encoded data removed]",
      "text/plain": [
       "<matplotlib.figure.Figure at 0x7f12aa533a20>"
      ]
     },
     "metadata": {},
     "output_type": "display_data"
    },
    {
     "name": "stdout",
     "output_type": "stream",
     "text": [
      "Generate another?\n"
     ]
    },
    {
     "data": {
      "image/png": "[encoded data removed]",
      "text/plain": [
       "<matplotlib.figure.Figure at 0x7f12aa462c88>"
      ]
     },
     "metadata": {},
     "output_type": "display_data"
    },
    {
     "name": "stdout",
     "output_type": "stream",
     "text": [
      "Generate another?\n"
     ]
    },
    {
     "data": {
      "image/png": "[encoded data removed]",
      "text/plain": [
       "<matplotlib.figure.Figure at 0x7f12aa405cf8>"
      ]
     },
     "metadata": {},
     "output_type": "display_data"
    },
    {
     "name": "stdout",
     "output_type": "stream",
     "text": [
      "Generate another?\n"
     ]
    },
    {
     "data": {
      "image/png": "[encoded data removed]",
      "text/plain": [
       "<matplotlib.figure.Figure at 0x7f12aa397b00>"
      ]
     },
     "metadata": {},
     "output_type": "display_data"
    },
    {
     "name": "stdout",
     "output_type": "stream",
     "text": [
      "Generate another?\n"
     ]
    },
    {
     "data": {
      "image/png": "[encoded data removed]",
      "text/plain": [
       "<matplotlib.figure.Figure at 0x7f12aa298208>"
      ]
     },
     "metadata": {},
     "output_type": "display_data"
    },
    {
     "name": "stdout",
     "output_type": "stream",
     "text": [
      "Generate another?\n"
     ]
    },
    {
     "data": {
      "image/png": "[encoded data removed]",
      "text/plain": [
       "<matplotlib.figure.Figure at 0x7f12aa1e80b8>"
      ]
     },
     "metadata": {},
     "output_type": "display_data"
    },
    {
     "name": "stdout",
     "output_type": "stream",
     "text": [
      "Generate another?\n"
     ]
    },
    {
     "data": {
      "image/png": "[encoded data removed]",
      "text/plain": [
       "<matplotlib.figure.Figure at 0x7f12aa18a048>"
      ]
     },
     "metadata": {},
     "output_type": "display_data"
    },
    {
     "name": "stdout",
     "output_type": "stream",
     "text": [
      "Generate another?\n"
     ]
    },
    {
     "data": {
      "image/png": "[encoded data removed]",
      "text/plain": [
       "<matplotlib.figure.Figure at 0x7f12aa09cd68>"
      ]
     },
     "metadata": {},
     "output_type": "display_data"
    },
    {
     "name": "stdout",
     "output_type": "stream",
     "text": [
      "Generate another?\n"
     ]
    },
    {
     "data": {
      "image/png": "[encoded data removed]",
      "text/plain": [
       "<matplotlib.figure.Figure at 0x7f12aa04c240>"
      ]
     },
     "metadata": {},
     "output_type": "display_data"
    },
    {
     "name": "stdout",
     "output_type": "stream",
     "text": [
      "Generate another?\n"
     ]
    },
    {
     "data": {
      "image/png": "[encoded data removed]",
      "text/plain": [
       "<matplotlib.figure.Figure at 0x7f12aa00ba20>"
      ]
     },
     "metadata": {},
     "output_type": "display_data"
    },
    {
     "name": "stdout",
     "output_type": "stream",
     "text": [
      "Generate another?\n"
     ]
    },
    {
     "data": {
      "image/png": "[encoded data removed]",
      "text/plain": [
       "<matplotlib.figure.Figure at 0x7f12a9ee04e0>"
      ]
     },
     "metadata": {},
     "output_type": "display_data"
    },
    {
     "name": "stdout",
     "output_type": "stream",
     "text": [
      "Generate another?\n"
     ]
    },
    {
     "data": {
      "image/png": "[encoded data removed]",
      "text/plain": [
       "<matplotlib.figure.Figure at 0x7f12a9e814e0>"
      ]
     },
     "metadata": {},
     "output_type": "display_data"
    }
   ],
   "source": [
    "if __name__=='__main__':\n",
    "    test_vae()"
   ]
  },
  {
   "cell_type": "code",
   "execution_count": null,
   "metadata": {},
   "outputs": [],
   "source": []
  }
 ],
 "metadata": {
  "kernelspec": {
   "display_name": "Python 3",
   "language": "python",
   "name": "python3"
  },
  "language_info": {
   "codemirror_mode": {
    "name": "ipython",
    "version": 3
   },
   "file_extension": ".py",
   "mimetype": "text/x-python",
   "name": "python",
   "nbconvert_exporter": "python",
   "pygments_lexer": "ipython3",
   "version": "3.6.4"
  }
 },
 "nbformat": 4,
 "nbformat_minor": 2
}
