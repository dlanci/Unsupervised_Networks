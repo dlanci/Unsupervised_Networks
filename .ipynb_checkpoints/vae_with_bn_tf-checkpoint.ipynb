{
 "cells": [
  {
   "cell_type": "code",
   "execution_count": 59,
   "metadata": {},
   "outputs": [
    {
     "name": "stdout",
     "output_type": "stream",
     "text": [
      "Extracting MNIST_data/train-images-idx3-ubyte.gz\n",
      "Extracting MNIST_data/train-labels-idx1-ubyte.gz\n",
      "Extracting MNIST_data/t10k-images-idx3-ubyte.gz\n",
      "Extracting MNIST_data/t10k-labels-idx1-ubyte.gz\n"
     ]
    }
   ],
   "source": [
    "import numpy as np\n",
    "import tensorflow as tf\n",
    "import matplotlib.pyplot as plt\n",
    "\n",
    "from tensorflow.examples.tutorials.mnist import input_data\n",
    "from util import random_mini_batches\n",
    "\n",
    "mnist = input_data.read_data_sets(\"MNIST_data/\", one_hot=False)\n",
    "\n",
    "st = tf.contrib.bayesflow.stochastic_tensor\n",
    "Normal = tf.contrib.distributions.Normal\n",
    "Bernoulli = tf.contrib.distributions.Bernoulli"
   ]
  },
  {
   "cell_type": "code",
   "execution_count": 60,
   "metadata": {},
   "outputs": [],
   "source": [
    "# some constants\n",
    "LEARNING_RATE = 0.002\n",
    "BETA1 = 0.6\n",
    "BATCH_SIZE = 100\n",
    "EPOCHS = 20\n",
    "SAVE_SAMPLE_PERIOD = 50"
   ]
  },
  {
   "cell_type": "code",
   "execution_count": 61,
   "metadata": {},
   "outputs": [],
   "source": [
    "def lrelu(x, alpha =0.2):\n",
    "    return tf.maximum(alpha*x,x)"
   ]
  },
  {
   "cell_type": "code",
   "execution_count": 62,
   "metadata": {},
   "outputs": [],
   "source": [
    "class DenseLayer(object):\n",
    "    \n",
    "    def __init__(self,\n",
    "                 name,\n",
    "                 mi, mo,\n",
    "                 apply_batch_norm,\n",
    "                 f=tf.nn.relu):\n",
    "        \n",
    "        #self.mi = mi\n",
    "        #self.mo = mo\n",
    "        \n",
    "        self.W = tf.get_variable(\n",
    "            'W_%s' %name,\n",
    "            shape=(mi,mo),\n",
    "            initializer=tf.glorot_normal_initializer(),\n",
    "        )\n",
    "        self.b = tf.get_variable(\n",
    "            'b_%s' %name,\n",
    "            shape=(mo, ),\n",
    "            initializer=tf.zeros_initializer(),\n",
    "        )\n",
    "        \n",
    "        self.f = f\n",
    "        self.name = name\n",
    "        self.apply_batch_norm = apply_batch_norm\n",
    "        \n",
    "        \n",
    "    def forward(self, X, reuse, is_training):\n",
    "        Z = tf.matmul(X,self.W) + self.b\n",
    "        \n",
    "        if self.apply_batch_norm:\n",
    "            \n",
    "            Z = tf.contrib.layers.batch_norm(\n",
    "                Z,\n",
    "                decay=0.99,\n",
    "                updates_collections=None,\n",
    "                epsilon=1e-5,\n",
    "                scale=True,\n",
    "                is_training = is_training,\n",
    "                reuse=reuse,\n",
    "                scope = self.name,\n",
    "            )\n",
    "            \n",
    "        return self.f(Z)\n",
    "    \n",
    "    def set_session(self, session):\n",
    "        \n",
    "        self.session = session"
   ]
  },
  {
   "cell_type": "code",
   "execution_count": 63,
   "metadata": {},
   "outputs": [],
   "source": [
    "class VariationalAutoencoder:\n",
    "    \n",
    "    \n",
    "    def __init__(self, D, sizes):\n",
    "        \n",
    "        #size of every layer in the encoder\n",
    "        #up to the latent layer, decoder\n",
    "        #will have reverse shape\n",
    "        self.sizes = sizes\n",
    "        self.latent_dims = sizes['layer_sizes'][-1][0]\n",
    "        self.D=D\n",
    "        \n",
    "        self.X = tf.placeholder(\n",
    "            tf.float32,\n",
    "            shape=(None, self.D),\n",
    "            name='X'\n",
    "        )\n",
    "        \n",
    "        self.batch_sz = tf.placeholder(\n",
    "            tf.float32,\n",
    "            shape=(),\n",
    "            name='batch_sz'\n",
    "        )\n",
    "        \n",
    "        #builds the encoder and outputs a Z distribution\n",
    "        self.Z = self.build_encoder(self.X, self.sizes)\n",
    "        \n",
    "        #builds decoder from Z distribution\n",
    "        logits = self.build_decoder(self.Z, self.sizes)\n",
    "        \n",
    "        #builds X_hat distribution from decoder output\n",
    "        self.X_hat_distribution = Bernoulli(logits=logits)\n",
    "        \n",
    "        \n",
    "        #posterior predictive\n",
    "        \n",
    "        with tf.variable_scope('encoder') as scope:\n",
    "            scope.reuse_variables\n",
    "            self.Z_dist = self.encode(\n",
    "                self.X, reuse=True, is_training=False,\n",
    "            )#self.X or something on purpose?\n",
    "\n",
    "                                                   \n",
    "        with tf.variable_scope('decoder') as scope:\n",
    "            scope.reuse_variables()\n",
    "            sample_logits = self.decode(\n",
    "                self.Z_dist, reuse=True, is_training=False,\n",
    "            )\n",
    "            \n",
    "        self.posterior_predictive_dist = Bernoulli(logits=sample_logits)\n",
    "        self.posterior_predictive = self.posterior_predictive_dist.sample()\n",
    "        self.posterior_predictive_probs = tf.nn.sigmoid(sample_logits)\n",
    "        \n",
    "        #prior predictive from prob\n",
    "\n",
    "        standard_normal = Normal(\n",
    "          loc=np.zeros(self.latent_dims, dtype=np.float32),\n",
    "          scale=np.ones(self.latent_dims, dtype=np.float32)\n",
    "        )\n",
    "\n",
    "        Z_std = standard_normal.sample(1)\n",
    "\n",
    "        with tf.variable_scope('decoder') as scope:\n",
    "            scope.reuse_variables()\n",
    "            logits_from_prob = self.decode(\n",
    "                Z_std, reuse=True, is_training=False,\n",
    "            )\n",
    "        \n",
    "        prior_predictive_dist = Bernoulli(logits=logits_from_prob)\n",
    "        self.prior_predictive = prior_predictive_dist.sample()\n",
    "        self.prior_predictive_probs = tf.nn.sigmoid(logits_from_prob)\n",
    "\n",
    "\n",
    "        # prior predictive from input\n",
    "\n",
    "        self.Z_input = tf.placeholder(tf.float32, shape=(None, self.latent_dims))\n",
    "        \n",
    "        with tf.variable_scope('decoder') as scope:\n",
    "            scope.reuse_variables()    \n",
    "            logits_from_input = self.decode(\n",
    "                self.Z_input, reuse=True, is_training=False,\n",
    "            )\n",
    "        \n",
    "        input_predictive_dist = Bernoulli(logits=logits_from_input)\n",
    "        self.prior_predictive_from_input= input_predictive_dist.sample()\n",
    "        self.prior_predictive_from_input_probs = tf.nn.sigmoid(logits_from_input)\n",
    "\n",
    "        \n",
    "        #cost\n",
    "        kl = tf.reduce_sum(\n",
    "            tf.contrib.distributions.kl_divergence(\n",
    "                self.Z.distribution,\n",
    "                standard_normal),\n",
    "            1\n",
    "        )\n",
    "        \n",
    "        \n",
    "        expected_log_likelihood = tf.reduce_sum(\n",
    "              self.X_hat_distribution.log_prob(self.X),\n",
    "              1\n",
    "        )\n",
    "        \n",
    "        self.elbo = tf.reduce_sum(expected_log_likelihood - kl)\n",
    "        self.train_op = tf.train.AdamOptimizer(\n",
    "            learning_rate=LEARNING_RATE, #(0.001)\n",
    "            beta1=BETA1,\n",
    "        ).minimize(-self.elbo)\n",
    "\n",
    "    def build_encoder(self, X, sizes):\n",
    "        \n",
    "        with tf.variable_scope('encoder') as scope:\n",
    "            \n",
    "            self.encoder_layers=[]\n",
    "            M_in = self.D\n",
    "            count = 0\n",
    "            for M_out, apply_batch_norm in sizes['layer_sizes'][:-1]:\n",
    "                \n",
    "                name = 'enc_layer_%s' %count\n",
    "                count += 1\n",
    "                \n",
    "                layer = DenseLayer(name, M_in, M_out, apply_batch_norm, lrelu)\n",
    "                self.encoder_layers.append(layer)\n",
    "                M_in = M_out\n",
    "        \n",
    "            #no activation of last layer and need 2\n",
    "            #times as many units (M means and M stddevs)\n",
    "            name = 'enc_layer_%s' %count\n",
    "            last_enc_layer = DenseLayer(name, M_in, 2*self.latent_dims, apply_batch_norm=False, f=lambda x: x)\n",
    "            self.encoder_layers.append(last_enc_layer)\n",
    "            \n",
    "            return self.encode(X)\n",
    "        \n",
    "    def encode(self, X, reuse=None, is_training=True):\n",
    "        #propagate X until end of encoder\n",
    "        output=X\n",
    "        \n",
    "        for layer in self.encoder_layers:\n",
    "            output = layer.forward(output, reuse, is_training)\n",
    "        \n",
    "        \n",
    "        #get means and stddev from last encoder layer\n",
    "        self.means = output[:, :self.latent_dims]\n",
    "        self.stddev = tf.nn.softplus(output[:,self.latent_dims:])+1e-6\n",
    "        \n",
    "        # get a sample of Z, we need to use a stochastic tensor\n",
    "        # in order for the errors to be backpropagated past this point\n",
    "        \n",
    "        with st.value_type(st.SampleValue()):\n",
    "            Z = st.StochasticTensor(Normal(loc=self.means, scale=self.stddev))\n",
    "        \n",
    "        return Z\n",
    "    \n",
    "        #build decoder\n",
    "    def build_decoder(self, Z, sizes):\n",
    "        \n",
    "        with tf.variable_scope('decoder') as scope:\n",
    "            \n",
    "            self.decoder_layers =[]\n",
    "            \n",
    "            M_in = self.latent_dims\n",
    "\n",
    "            count=0\n",
    "            for i in range(len(sizes['layer_sizes'])-1,0,-1):\n",
    "                \n",
    "                name = 'dec_layer_%s' %count\n",
    "                count +=1\n",
    "                M_out, apply_batch_norm = sizes['layer_sizes'][i]\n",
    "                \n",
    "                layer = DenseLayer(name, M_in, M_out, apply_batch_norm)\n",
    "                self.decoder_layers.append(layer)\n",
    "                M_in = M_out\n",
    "\n",
    "            # the decoder's final layer should technically go through a sigmoid\n",
    "            # so that the final output is a binary probability (e.g. Bernoulli)\n",
    "            # but Bernoulli accepts logits (pre-sigmoid) so we will take those\n",
    "            # so no activation function is needed at the final layer\n",
    "            \n",
    "            name = 'dec_layer_%s' %count\n",
    "            last_dec_layer = DenseLayer(name, M_in, self.D, apply_batch_norm=False, f=lambda x: x)\n",
    "            self.decoder_layers.append(last_dec_layer)\n",
    "            \n",
    "            return self.decode(Z)\n",
    "    \n",
    "    def decode(self, Z, reuse=None, is_training=True):\n",
    "        \n",
    "        output = Z\n",
    "        \n",
    "        for layer in self.decoder_layers:\n",
    "            output = layer.forward(output, reuse, is_training)\n",
    "        \n",
    "        return output\n",
    "    \n",
    "    def set_session(self, session):\n",
    "        \n",
    "        self.session = session\n",
    "        \n",
    "        for layer in self.encoder_layers:\n",
    "            layer.set_session(session)\n",
    "            \n",
    "        for layer in self.decoder_layers:\n",
    "            layer.set_session(session)  \n",
    "        \n",
    "    def fit(self, X):\n",
    "        costs = []\n",
    "        n_batches = len(X)//BATCH_SIZE\n",
    "        print(\"# batches\", n_batches)\n",
    "        \n",
    "        for i in range(EPOCHS):\n",
    "            print(\"Epoch\", i)\n",
    "            np.random.shuffle(X)\n",
    "            \n",
    "            for j in range(n_batches):\n",
    "                \n",
    "                X_batch = X[j*BATCH_SIZE:(j+1)*BATCH_SIZE]\n",
    "                _, c = self.session.run((self.train_op,self.elbo),feed_dict={self.X:X_batch, self.batch_sz:BATCH_SIZE})\n",
    "                c /= BATCH_SIZE\n",
    "                costs.append(c)\n",
    "                \n",
    "                if j % 250 == 0:\n",
    "                    print(\"on iter %d, cost: %.3f\" %(j, c))\n",
    "                \n",
    "            plt.plot(costs)\n",
    "            plt.show\n",
    "            \n",
    "    def transform(self, X):\n",
    "        return self.session.run(\n",
    "          self.means,\n",
    "          feed_dict={self.X: X}\n",
    "        )\n",
    "\n",
    "    #def prior_predictive_with_input(self, Z):\n",
    "    #    return self.session.run(\n",
    "    #      self.prior_predictive_from_input_probs,\n",
    "    #      feed_dict={self.Z_input: Z}\n",
    "    #    )\n",
    "\n",
    "    def posterior_predictive_sample(self, X):\n",
    "        # returns a sample from p(x_new | X)\n",
    "        return self.session.run(self.posterior_predictive_probs, feed_dict={self.X: X})\n",
    "\n",
    "    def prior_predictive_sample_with_probs(self):\n",
    "        # returns a sample from p(x_new | z), z ~ N(0, 1)\n",
    "        return self.session.run((self.prior_predictive, self.prior_predictive_probs))"
   ]
  },
  {
   "cell_type": "code",
   "execution_count": 64,
   "metadata": {},
   "outputs": [],
   "source": [
    "def test_vae():\n",
    "\n",
    "    X_train = mnist.train.images\n",
    "    #X_train = X_train/255\n",
    "    X_train = (X_train>0.5).astype(np.float32)\n",
    "    \n",
    "    X_test = mnist.test.images\n",
    "    #X_test = X_test/255\n",
    "    X_test = (X_test>0.5).astype(np.float32)\n",
    "\n",
    "    \n",
    "    N, D = X_train.shape\n",
    "    \n",
    "    sizes = {\n",
    "        'layer_sizes':[(300,False),(200,True),(100,True)]\n",
    "    }\n",
    "    tf.reset_default_graph()\n",
    "    vae = VariationalAutoencoder(D, sizes)\n",
    "    # set up session and variables for later\n",
    "    init_op = tf.global_variables_initializer()\n",
    "\n",
    "    with tf.Session() as sess:\n",
    "        \n",
    "        sess.run(init_op)\n",
    "        vae.set_session(sess)\n",
    "        vae.fit(X_train)\n",
    "\n",
    "        done = False\n",
    "        while not done:\n",
    "        \n",
    "            i = np.random.choice(len(X_test))\n",
    "            x = X_test[i]\n",
    "            im = vae.posterior_predictive_sample([x]).reshape(28, 28)\n",
    "            \n",
    "            plt.subplot(1,2,1)\n",
    "            plt.imshow(x.reshape(28, 28), cmap='gray')\n",
    "            plt.title(\"Original\")\n",
    "            \n",
    "            plt.subplot(1,2,2)\n",
    "            plt.imshow(im, cmap='gray')\n",
    "            plt.title(\"Sampled\")\n",
    "            plt.show()\n",
    "\n",
    "            ans = input(\"Generate another?\")\n",
    "            if ans and ans[0] in ('n' or 'N'):\n",
    "                done = True\n",
    "\n",
    "  # plot output from random samples in latent space\n",
    "        done = False\n",
    "        while not done:\n",
    "        \n",
    "            im, probs = vae.prior_predictive_sample_with_probs()\n",
    "            \n",
    "            im = im.reshape(28, 28)\n",
    "            \n",
    "            probs = probs.reshape(28, 28)\n",
    "            \n",
    "            plt.subplot(1,2,1)\n",
    "            plt.imshow(im, cmap='gray')\n",
    "            plt.title(\"Prior predictive sample\")\n",
    "            \n",
    "            plt.subplot(1,2,2)\n",
    "            plt.imshow(probs, cmap='gray')\n",
    "            plt.title(\"Prior predictive probs\")\n",
    "            plt.show()\n",
    "\n",
    "            ans = input(\"Generate another?\")\n",
    "            if ans and ans[0] in ('n' or 'N'):\n",
    "                done = True"
   ]
  },
  {
   "cell_type": "code",
   "execution_count": 65,
   "metadata": {},
   "outputs": [
    {
     "name": "stdout",
     "output_type": "stream",
     "text": [
      "# batches 550\n",
      "Epoch 0\n",
      "on iter 0, cost: -593.542\n",
      "on iter 250, cost: -138.900\n",
      "on iter 500, cost: -125.790\n",
      "Epoch 1\n",
      "on iter 0, cost: -118.838\n",
      "on iter 250, cost: -109.735\n",
      "on iter 500, cost: -103.983\n",
      "Epoch 2\n",
      "on iter 0, cost: -109.234\n",
      "on iter 250, cost: -103.989\n",
      "on iter 500, cost: -98.493\n",
      "Epoch 3\n",
      "on iter 0, cost: -94.644\n",
      "on iter 250, cost: -102.966\n",
      "on iter 500, cost: -94.240\n",
      "Epoch 4\n",
      "on iter 0, cost: -104.235\n",
      "on iter 250, cost: -96.718\n",
      "on iter 500, cost: -95.761\n",
      "Epoch 5\n",
      "on iter 0, cost: -91.905\n",
      "on iter 250, cost: -95.027\n",
      "on iter 500, cost: -95.540\n",
      "Epoch 6\n",
      "on iter 0, cost: -91.917\n",
      "on iter 250, cost: -93.478\n",
      "on iter 500, cost: -91.880\n",
      "Epoch 7\n",
      "on iter 0, cost: -99.809\n",
      "on iter 250, cost: -93.980\n",
      "on iter 500, cost: -90.752\n",
      "Epoch 8\n",
      "on iter 0, cost: -92.878\n",
      "on iter 250, cost: -92.173\n",
      "on iter 500, cost: -86.211\n",
      "Epoch 9\n",
      "on iter 0, cost: -93.057\n",
      "on iter 250, cost: -89.734\n",
      "on iter 500, cost: -92.309\n",
      "Epoch 10\n",
      "on iter 0, cost: -89.608\n",
      "on iter 250, cost: -88.394\n",
      "on iter 500, cost: -85.791\n",
      "Epoch 11\n",
      "on iter 0, cost: -89.175\n",
      "on iter 250, cost: -90.715\n",
      "on iter 500, cost: -93.338\n",
      "Epoch 12\n",
      "on iter 0, cost: -86.673\n",
      "on iter 250, cost: -90.609\n",
      "on iter 500, cost: -94.934\n",
      "Epoch 13\n",
      "on iter 0, cost: -93.022\n",
      "on iter 250, cost: -90.606\n",
      "on iter 500, cost: -95.540\n",
      "Epoch 14\n",
      "on iter 0, cost: -94.305\n",
      "on iter 250, cost: -89.664\n",
      "on iter 500, cost: -89.535\n",
      "Epoch 15\n",
      "on iter 0, cost: -88.246\n",
      "on iter 250, cost: -87.598\n",
      "on iter 500, cost: -88.784\n",
      "Epoch 16\n",
      "on iter 0, cost: -89.008\n",
      "on iter 250, cost: -91.289\n",
      "on iter 500, cost: -93.109\n",
      "Epoch 17\n",
      "on iter 0, cost: -85.409\n",
      "on iter 250, cost: -85.848\n",
      "on iter 500, cost: -87.909\n",
      "Epoch 18\n",
      "on iter 0, cost: -90.611\n",
      "on iter 250, cost: -92.691\n",
      "on iter 500, cost: -96.395\n",
      "Epoch 19\n",
      "on iter 0, cost: -87.177\n",
      "on iter 250, cost: -87.262\n",
      "on iter 500, cost: -87.051\n"
     ]
    },
    {
     "data": {
      "image/png": "[encoded data removed]",
      "text/plain": [
       "<matplotlib.figure.Figure at 0x13714f908>"
      ]
     },
     "metadata": {},
     "output_type": "display_data"
    },
    {
     "name": "stdout",
     "output_type": "stream",
     "text": [
      "Generate another?\n"
     ]
    },
    {
     "data": {
      "image/png": "[encoded data removed]",
      "text/plain": [
       "<matplotlib.figure.Figure at 0x124236b70>"
      ]
     },
     "metadata": {},
     "output_type": "display_data"
    },
    {
     "name": "stdout",
     "output_type": "stream",
     "text": [
      "Generate another?\n"
     ]
    },
    {
     "data": {
      "image/png": "[encoded data removed]",
      "text/plain": [
       "<matplotlib.figure.Figure at 0x124e22748>"
      ]
     },
     "metadata": {},
     "output_type": "display_data"
    },
    {
     "name": "stdout",
     "output_type": "stream",
     "text": [
      "Generate another?\n"
     ]
    },
    {
     "data": {
      "image/png": "[encoded data removed]",
      "text/plain": [
       "<matplotlib.figure.Figure at 0x123fdb860>"
      ]
     },
     "metadata": {},
     "output_type": "display_data"
    },
    {
     "name": "stdout",
     "output_type": "stream",
     "text": [
      "Generate another?\n"
     ]
    },
    {
     "data": {
      "image/png": "[encoded data removed]",
      "text/plain": [
       "<matplotlib.figure.Figure at 0x123cf1358>"
      ]
     },
     "metadata": {},
     "output_type": "display_data"
    },
    {
     "name": "stdout",
     "output_type": "stream",
     "text": [
      "Generate another?\n"
     ]
    },
    {
     "data": {
      "image/png": "[encoded data removed]",
      "text/plain": [
       "<matplotlib.figure.Figure at 0x136c60198>"
      ]
     },
     "metadata": {},
     "output_type": "display_data"
    },
    {
     "name": "stdout",
     "output_type": "stream",
     "text": [
      "Generate another?\n"
     ]
    },
    {
     "data": {
      "image/png": "[encoded data removed]",
      "text/plain": [
       "<matplotlib.figure.Figure at 0x124e5ad30>"
      ]
     },
     "metadata": {},
     "output_type": "display_data"
    },
    {
     "name": "stdout",
     "output_type": "stream",
     "text": [
      "Generate another?n\n"
     ]
    },
    {
     "data": {
      "image/png": "[encoded data removed]",
      "text/plain": [
       "<matplotlib.figure.Figure at 0x125015518>"
      ]
     },
     "metadata": {},
     "output_type": "display_data"
    },
    {
     "name": "stdout",
     "output_type": "stream",
     "text": [
      "Generate another?\n"
     ]
    },
    {
     "data": {
      "image/png": "[encoded data removed]",
      "text/plain": [
       "<matplotlib.figure.Figure at 0x12784d400>"
      ]
     },
     "metadata": {},
     "output_type": "display_data"
    },
    {
     "name": "stdout",
     "output_type": "stream",
     "text": [
      "Generate another?\n"
     ]
    },
    {
     "data": {
      "image/png": "[encoded data removed]",
      "text/plain": [
       "<matplotlib.figure.Figure at 0x1290327b8>"
      ]
     },
     "metadata": {},
     "output_type": "display_data"
    },
    {
     "name": "stdout",
     "output_type": "stream",
     "text": [
      "Generate another?\n"
     ]
    },
    {
     "data": {
      "image/png": "[encoded data removed]",
      "text/plain": [
       "<matplotlib.figure.Figure at 0x127218278>"
      ]
     },
     "metadata": {},
     "output_type": "display_data"
    },
    {
     "name": "stdout",
     "output_type": "stream",
     "text": [
      "Generate another?n\n"
     ]
    }
   ],
   "source": [
    "if __name__=='__main__':\n",
    "    test_vae()"
   ]
  },
  {
   "cell_type": "code",
   "execution_count": null,
   "metadata": {},
   "outputs": [],
   "source": []
  },
  {
   "cell_type": "code",
   "execution_count": null,
   "metadata": {},
   "outputs": [],
   "source": []
  }
 ],
 "metadata": {
  "kernelspec": {
   "display_name": "Python 3",
   "language": "python",
   "name": "python3"
  },
  "language_info": {
   "codemirror_mode": {
    "name": "ipython",
    "version": 3
   },
   "file_extension": ".py",
   "mimetype": "text/x-python",
   "name": "python",
   "nbconvert_exporter": "python",
   "pygments_lexer": "ipython3",
   "version": "3.6.3"
  }
 },
 "nbformat": 4,
 "nbformat_minor": 2
}
